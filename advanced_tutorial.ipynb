{
 "cells": [
  {
   "cell_type": "markdown",
   "metadata": {},
   "source": [
    "Dieses Notebook baut auf der Einführung im \"basic_tutorial\"-Notebook auf und stellt Techniken zur Erhöhung der Vorhersagegenauigkeit und der Beschleunigung des Trainings vor\n",
    "\n",
    "Für Bilddaten liefern [Convolutional Neural Networks](https://de.wikipedia.org/wiki/Convolutional_Neural_Network) (CNN oder ConvNet) die höchste Vorhersagegenauigkeit.\n",
    "CNNs verwenden Filter um durch mathematische Faltung (engl. \"convolution\") Eigenschaften eines Bildes hervorzuheben.\n",
    "Nach jeder Convolutional Layer (ConvLayer) wird ein Pooling verwendet mit dem die Auflösung des Bildes sukzessiv reduziert wird (siehe Abb.).\n",
    "Üblicherweise werden innerhalb einer Convolutional Layer eines CNNs parallel mehrere Faltungen mit verschiedenen Filtern durchgeführt (Anzahl an Channels), sodass nach der letzten Kombination von Convolution und Pooling Layer viele mehrfach gefilterte, niedrigaufgelöste Versionen des Eingangsbilds exisitieren.\n",
    "Alle Pixel dieser Versionen werden als ein langer Vektor durch ein vollständig verbundenes neuronales Netz (DenseNet), wie wir es aus dem basic_tutorial kennen, auf die Ziffern 0 bis 9 abgebildet.\n",
    "\n",
    "<img src=\"cnn.png\" style=\"width:800px;height:400px;\">\n",
    "\n",
    "Es wird wieder Version 2 von [fastai](https://docs.fast.ai/) (Installationsanleitung inkl. PyTorch im Link) verwendet."
   ]
  },
  {
   "cell_type": "markdown",
   "metadata": {},
   "source": [
    "Packages werden importiert"
   ]
  },
  {
   "cell_type": "code",
   "execution_count": 10,
   "metadata": {},
   "outputs": [],
   "source": [
    "from fastai.basics import *\n",
    "from fastai.vision.all import *"
   ]
  },
  {
   "cell_type": "markdown",
   "metadata": {},
   "source": [
    "MNIST-Daten werden heruntergeladen und als [ImageDataLoader-Objekt](https://docs.fast.ai/vision.data.html#ImageDataLoaders) geladen\n",
    "\n",
    "Durch [Data Augmentation](https://docs.fast.ai/vision.augment.html) kann die Anzahl an Trainingsdaten künstlich erhöht werden, indem die Bilder gedreht, gezoomt, verschoben,... werden.\n",
    "\n",
    "Diese Transformationen können als batch_tfms übergeben werden.\n",
    "\n",
    "In diesem Fall werden eine Reihe von sinnvollen Transformationen durch die Funktion [aug_transforms](https://docs.fast.ai/vision.augment.html#aug_transforms) übergeben"
   ]
  },
  {
   "cell_type": "code",
   "execution_count": 11,
   "metadata": {
    "pycharm": {
     "name": "#%%\n"
    }
   },
   "outputs": [],
   "source": [
    "path = untar_data(URLs.MNIST)\n",
    "data = ImageDataLoaders.from_folder(path, train='training', valid='testing', bs=64, batch_tfms=aug_transforms())"
   ]
  },
  {
   "cell_type": "markdown",
   "metadata": {},
   "source": [
    "Mit .show_batch() werden die Transformationen der Originalbilder deutlich"
   ]
  },
  {
   "cell_type": "code",
   "execution_count": 12,
   "metadata": {
    "pycharm": {
     "name": "#%%\n"
    }
   },
   "outputs": [
    {
     "data": {
      "image/png": "[encoded data removed]",
      "text/plain": [
       "<Figure size 648x648 with 9 Axes>"
      ]
     },
     "metadata": {
      "needs_background": "light"
     },
     "output_type": "display_data"
    }
   ],
   "source": [
    "data.show_batch()"
   ]
  },
  {
   "cell_type": "markdown",
   "metadata": {},
   "source": [
    "Initialisierung eines kleinen CNNs mit zwei ConvLayern [nn.Conv2d](https://pytorch.org/docs/stable/generated/torch.nn.Conv2d.html).\n",
    "\n",
    "Nach jeder ConvLayer wird ein [Max Pooling](https://pytorch.org/docs/stable/generated/torch.nn.MaxPool2d.html) durchgeführt."
   ]
  },
  {
   "cell_type": "code",
   "execution_count": 13,
   "metadata": {},
   "outputs": [
    {
     "data": {
      "text/html": [],
      "text/plain": [
       "<IPython.core.display.HTML object>"
      ]
     },
     "metadata": {},
     "output_type": "display_data"
    },
    {
     "name": "stdout",
     "output_type": "stream",
     "text": [
      "Net (Input shape: 64)\n",
      "============================================================================\n",
      "Layer (type)         Output Shape         Param #    Trainable \n",
      "============================================================================\n",
      "                     64 x 8 x 24 x 24    \n",
      "Conv2d                                    608        True      \n",
      "____________________________________________________________________________\n",
      "                     64 x 16 x 8 x 8     \n",
      "Conv2d                                    3216       True      \n",
      "____________________________________________________________________________\n",
      "                     64 x 120            \n",
      "Linear                                    30840      True      \n",
      "____________________________________________________________________________\n",
      "                     64 x 10             \n",
      "Linear                                    1210       True      \n",
      "____________________________________________________________________________\n",
      "\n",
      "Total params: 35,874\n",
      "Total trainable params: 35,874\n",
      "Total non-trainable params: 0\n",
      "\n",
      "Optimizer used: <function Adam at 0x7ff7c7281430>\n",
      "Loss function: FlattenedLoss of CrossEntropyLoss()\n",
      "\n",
      "Callbacks:\n",
      "  - TrainEvalCallback\n",
      "  - Recorder\n",
      "  - ProgressCallback\n"
     ]
    }
   ],
   "source": [
    "import torch\n",
    "import torch.nn as nn\n",
    "import torch.nn.functional as F\n",
    "\n",
    "\n",
    "class Net(nn.Module):\n",
    "\n",
    "    def __init__(self):\n",
    "        super(Net, self).__init__()\n",
    "        self.conv1 = nn.Conv2d(3, 8, 5)\n",
    "        self.conv2 = nn.Conv2d(8, 16, 5)\n",
    "        self.fc1 = nn.Linear(16 * 4 * 4, 120)\n",
    "        self.fc2 = nn.Linear(120, 10)\n",
    "\n",
    "    def forward(self, x):\n",
    "        x = F.relu(self.conv1(x))\n",
    "        x = F.max_pool2d(x, (2, 2))\n",
    "        x = F.relu(self.conv2(x))\n",
    "        x = F.max_pool2d(x, (2, 2))\n",
    "        x = x.view(x.shape[0], -1)\n",
    "        x = F.relu(self.fc1(x))\n",
    "        x = torch.sigmoid(self.fc2(x))\n",
    "        return x\n",
    "\n",
    "cnn_model = Net()\n",
    "cnn_learn = Learner(data, cnn_model, metrics=accuracy)\n",
    "print(cnn_learn.summary())"
   ]
  },
  {
   "cell_type": "markdown",
   "metadata": {},
   "source": [
    "Mit [.lr_find](https://fastai1.fast.ai/callbacks.lr_finder.html#lr_find) kann eine vernünftige Learning Rate bestimmt werden.\n",
    "\n",
    "Dabei wird bei einem Probetraining die Learning Rate erhöht und die Learning Rate bei der der Loss am stärksten fällt, ist eine gute Wahl für das richtige Training."
   ]
  },
  {
   "cell_type": "code",
   "execution_count": 14,
   "metadata": {},
   "outputs": [
    {
     "data": {
      "text/html": [],
      "text/plain": [
       "<IPython.core.display.HTML object>"
      ]
     },
     "metadata": {},
     "output_type": "display_data"
    },
    {
     "data": {
      "text/plain": [
       "SuggestedLRs(lr_min=0.00831763744354248, lr_steep=0.013182567432522774)"
      ]
     },
     "execution_count": 14,
     "metadata": {},
     "output_type": "execute_result"
    },
    {
     "data": {
      "image/png": "[encoded data removed]",
      "text/plain": [
       "<Figure size 432x288 with 1 Axes>"
      ]
     },
     "metadata": {
      "needs_background": "light"
     },
     "output_type": "display_data"
    }
   ],
   "source": [
    "cnn_learn.lr_find()"
   ]
  },
  {
   "cell_type": "markdown",
   "metadata": {},
   "source": [
    "Neben dieser steilsten Learning Rate (lr_steep), wird kann auch eine lr_min vorgeschlagen.\n",
    "Dies ist 10% der Learning Rate der Minimalstelle des find_lr-Plots. In unserem Fall wählen wir lr_min $= 7*10^{-3}$ als Learning Rate\n",
    "\n",
    "Statt .fit wird häufig [.fit_one_cycle](https://docs.fast.ai/callback.schedule.html#Learner.fit_one_cycle) verwendet um die Konvergenz des Losses zu beschleunigen."
   ]
  },
  {
   "cell_type": "code",
   "execution_count": 15,
   "metadata": {
    "pycharm": {
     "name": "#%%\n"
    }
   },
   "outputs": [
    {
     "data": {
      "text/html": [
       "<table border=\"1\" class=\"dataframe\">\n",
       "  <thead>\n",
       "    <tr style=\"text-align: left;\">\n",
       "      <th>epoch</th>\n",
       "      <th>train_loss</th>\n",
       "      <th>valid_loss</th>\n",
       "      <th>accuracy</th>\n",
       "      <th>time</th>\n",
       "    </tr>\n",
       "  </thead>\n",
       "  <tbody>\n",
       "    <tr>\n",
       "      <td>0</td>\n",
       "      <td>1.571280</td>\n",
       "      <td>1.521113</td>\n",
       "      <td>0.910400</td>\n",
       "      <td>00:10</td>\n",
       "    </tr>\n",
       "    <tr>\n",
       "      <td>1</td>\n",
       "      <td>1.522095</td>\n",
       "      <td>1.488184</td>\n",
       "      <td>0.964700</td>\n",
       "      <td>00:09</td>\n",
       "    </tr>\n",
       "    <tr>\n",
       "      <td>2</td>\n",
       "      <td>1.500926</td>\n",
       "      <td>1.481199</td>\n",
       "      <td>0.975400</td>\n",
       "      <td>00:10</td>\n",
       "    </tr>\n",
       "  </tbody>\n",
       "</table>"
      ],
      "text/plain": [
       "<IPython.core.display.HTML object>"
      ]
     },
     "metadata": {},
     "output_type": "display_data"
    }
   ],
   "source": [
    "cnn_learn.fit_one_cycle(3, 7e-3)"
   ]
  },
  {
   "cell_type": "markdown",
   "metadata": {},
   "source": [
    "Mit diesem einfachen CNN kommen wir auf eine Genauigkeit von ca. 97%.\n",
    "\n",
    "Mit dem Einsatz von Transfer Learning ist es möglich diese Genauigkeit noch weiter zu steigern.\n",
    "\n",
    "Dazu wird ein CNN als Modell verwendet welches bereits auf einer großen Anzahl von Bildern in einer anderen Domäne trainiert wurde\n",
    "\n",
    "Hier hilft uns die Funktion [cnn_learner](https://docs.fast.ai/vision.learner.html#cnn_learner) mit der vortrainierte Modelle wie das [xresnet18](https://docs.fast.ai/vision.models.xresnet.html#xresnet18) in einer Zeile geladen werden können"
   ]
  },
  {
   "cell_type": "code",
   "execution_count": 16,
   "metadata": {
    "pycharm": {
     "name": "#%%\n"
    }
   },
   "outputs": [
    {
     "data": {
      "text/html": [],
      "text/plain": [
       "<IPython.core.display.HTML object>"
      ]
     },
     "metadata": {},
     "output_type": "display_data"
    },
    {
     "name": "stdout",
     "output_type": "stream",
     "text": [
      "Sequential (Input shape: 64)\n",
      "============================================================================\n",
      "Layer (type)         Output Shape         Param #    Trainable \n",
      "============================================================================\n",
      "                     64 x 64 x 14 x 14   \n",
      "Conv2d                                    9408       False     \n",
      "BatchNorm2d                               128        True      \n",
      "ReLU                                                           \n",
      "MaxPool2d                                                      \n",
      "Conv2d                                    36864      False     \n",
      "BatchNorm2d                               128        True      \n",
      "ReLU                                                           \n",
      "Conv2d                                    36864      False     \n",
      "BatchNorm2d                               128        True      \n",
      "Conv2d                                    36864      False     \n",
      "BatchNorm2d                               128        True      \n",
      "ReLU                                                           \n",
      "Conv2d                                    36864      False     \n",
      "BatchNorm2d                               128        True      \n",
      "____________________________________________________________________________\n",
      "                     64 x 128 x 4 x 4    \n",
      "Conv2d                                    73728      False     \n",
      "BatchNorm2d                               256        True      \n",
      "ReLU                                                           \n",
      "Conv2d                                    147456     False     \n",
      "BatchNorm2d                               256        True      \n",
      "Conv2d                                    8192       False     \n",
      "BatchNorm2d                               256        True      \n",
      "Conv2d                                    147456     False     \n",
      "BatchNorm2d                               256        True      \n",
      "ReLU                                                           \n",
      "Conv2d                                    147456     False     \n",
      "BatchNorm2d                               256        True      \n",
      "____________________________________________________________________________\n",
      "                     64 x 256 x 2 x 2    \n",
      "Conv2d                                    294912     False     \n",
      "BatchNorm2d                               512        True      \n",
      "ReLU                                                           \n",
      "Conv2d                                    589824     False     \n",
      "BatchNorm2d                               512        True      \n",
      "Conv2d                                    32768      False     \n",
      "BatchNorm2d                               512        True      \n",
      "Conv2d                                    589824     False     \n",
      "BatchNorm2d                               512        True      \n",
      "ReLU                                                           \n",
      "Conv2d                                    589824     False     \n",
      "BatchNorm2d                               512        True      \n",
      "____________________________________________________________________________\n",
      "                     64 x 512 x 1 x 1    \n",
      "Conv2d                                    1179648    False     \n",
      "BatchNorm2d                               1024       True      \n",
      "ReLU                                                           \n",
      "Conv2d                                    2359296    False     \n",
      "BatchNorm2d                               1024       True      \n",
      "Conv2d                                    131072     False     \n",
      "BatchNorm2d                               1024       True      \n",
      "Conv2d                                    2359296    False     \n",
      "BatchNorm2d                               1024       True      \n",
      "ReLU                                                           \n",
      "Conv2d                                    2359296    False     \n",
      "BatchNorm2d                               1024       True      \n",
      "AdaptiveAvgPool2d                                              \n",
      "AdaptiveMaxPool2d                                              \n",
      "Flatten                                                        \n",
      "BatchNorm1d                               2048       True      \n",
      "Dropout                                                        \n",
      "____________________________________________________________________________\n",
      "                     64 x 512            \n",
      "Linear                                    524288     True      \n",
      "ReLU                                                           \n",
      "BatchNorm1d                               1024       True      \n",
      "Dropout                                                        \n",
      "____________________________________________________________________________\n",
      "                     64 x 10             \n",
      "Linear                                    5120       True      \n",
      "____________________________________________________________________________\n",
      "\n",
      "Total params: 11,708,992\n",
      "Total trainable params: 542,080\n",
      "Total non-trainable params: 11,166,912\n",
      "\n",
      "Optimizer used: <function Adam at 0x7ff7c7281430>\n",
      "Loss function: FlattenedLoss of CrossEntropyLoss()\n",
      "\n",
      "Model frozen up to parameter group #2\n",
      "\n",
      "Callbacks:\n",
      "  - TrainEvalCallback\n",
      "  - Recorder\n",
      "  - ProgressCallback\n"
     ]
    }
   ],
   "source": [
    "cnn_learn = cnn_learner(data, resnet18, metrics=accuracy, pretrained=True)\n",
    "print(cnn_learn.summary())"
   ]
  },
  {
   "cell_type": "markdown",
   "metadata": {},
   "source": [
    "Wie man sehen kann ist dies ein deutlich tieferes CNN als unser selbstgebasteltes CNN.\n",
    "\n",
    "Es wird wieder eine vernünftige Learning Rate gesucht"
   ]
  },
  {
   "cell_type": "code",
   "execution_count": 17,
   "metadata": {
    "pycharm": {
     "name": "#%%\n"
    }
   },
   "outputs": [
    {
     "data": {
      "text/html": [],
      "text/plain": [
       "<IPython.core.display.HTML object>"
      ]
     },
     "metadata": {},
     "output_type": "display_data"
    },
    {
     "data": {
      "text/plain": [
       "SuggestedLRs(lr_min=0.017378008365631102, lr_steep=0.001737800776027143)"
      ]
     },
     "execution_count": 17,
     "metadata": {},
     "output_type": "execute_result"
    },
    {
     "data": {
      "image/png": "[encoded data removed]",
      "text/plain": [
       "<Figure size 432x288 with 1 Axes>"
      ]
     },
     "metadata": {
      "needs_background": "light"
     },
     "output_type": "display_data"
    }
   ],
   "source": [
    "cnn_learn.lr_find()"
   ]
  },
  {
   "cell_type": "markdown",
   "metadata": {},
   "source": [
    "Wir wählen $1*10^{-2}$ als Learning Rate"
   ]
  },
  {
   "cell_type": "code",
   "execution_count": null,
   "metadata": {
    "pycharm": {
     "name": "#%%\n"
    }
   },
   "outputs": [
    {
     "data": {
      "text/html": [
       "\n",
       "    <div>\n",
       "        <style>\n",
       "            /* Turns off some styling */\n",
       "            progress {\n",
       "                /* gets rid of default border in Firefox and Opera. */\n",
       "                border: none;\n",
       "                /* Needs to be in here for Safari polyfill so background images work as expected. */\n",
       "                background-size: auto;\n",
       "            }\n",
       "            .progress-bar-interrupted, .progress-bar-interrupted::-webkit-progress-bar {\n",
       "                background: #F44336;\n",
       "            }\n",
       "        </style>\n",
       "      <progress value='7' class='' max='10' style='width:300px; height:20px; vertical-align: middle;'></progress>\n",
       "      70.00% [7/10 02:36<01:06]\n",
       "    </div>\n",
       "    \n",
       "<table border=\"1\" class=\"dataframe\">\n",
       "  <thead>\n",
       "    <tr style=\"text-align: left;\">\n",
       "      <th>epoch</th>\n",
       "      <th>train_loss</th>\n",
       "      <th>valid_loss</th>\n",
       "      <th>accuracy</th>\n",
       "      <th>time</th>\n",
       "    </tr>\n",
       "  </thead>\n",
       "  <tbody>\n",
       "    <tr>\n",
       "      <td>0</td>\n",
       "      <td>0.358288</td>\n",
       "      <td>0.201268</td>\n",
       "      <td>0.937600</td>\n",
       "      <td>00:22</td>\n",
       "    </tr>\n",
       "    <tr>\n",
       "      <td>1</td>\n",
       "      <td>0.254615</td>\n",
       "      <td>0.120493</td>\n",
       "      <td>0.961600</td>\n",
       "      <td>00:21</td>\n",
       "    </tr>\n",
       "    <tr>\n",
       "      <td>2</td>\n",
       "      <td>0.227194</td>\n",
       "      <td>0.142599</td>\n",
       "      <td>0.956900</td>\n",
       "      <td>00:22</td>\n",
       "    </tr>\n",
       "    <tr>\n",
       "      <td>3</td>\n",
       "      <td>0.181067</td>\n",
       "      <td>0.098230</td>\n",
       "      <td>0.967400</td>\n",
       "      <td>00:22</td>\n",
       "    </tr>\n",
       "    <tr>\n",
       "      <td>4</td>\n",
       "      <td>0.155261</td>\n",
       "      <td>0.084949</td>\n",
       "      <td>0.972900</td>\n",
       "      <td>00:22</td>\n",
       "    </tr>\n",
       "    <tr>\n",
       "      <td>5</td>\n",
       "      <td>0.109499</td>\n",
       "      <td>0.082300</td>\n",
       "      <td>0.975900</td>\n",
       "      <td>00:22</td>\n",
       "    </tr>\n",
       "    <tr>\n",
       "      <td>6</td>\n",
       "      <td>0.109943</td>\n",
       "      <td>0.062260</td>\n",
       "      <td>0.979700</td>\n",
       "      <td>00:22</td>\n",
       "    </tr>\n",
       "  </tbody>\n",
       "</table><p>\n",
       "\n",
       "    <div>\n",
       "        <style>\n",
       "            /* Turns off some styling */\n",
       "            progress {\n",
       "                /* gets rid of default border in Firefox and Opera. */\n",
       "                border: none;\n",
       "                /* Needs to be in here for Safari polyfill so background images work as expected. */\n",
       "                background-size: auto;\n",
       "            }\n",
       "            .progress-bar-interrupted, .progress-bar-interrupted::-webkit-progress-bar {\n",
       "                background: #F44336;\n",
       "            }\n",
       "        </style>\n",
       "      <progress value='80' class='' max='157' style='width:300px; height:20px; vertical-align: middle;'></progress>\n",
       "      50.96% [80/157 00:00<00:00 0.0935]\n",
       "    </div>\n",
       "    "
      ],
      "text/plain": [
       "<IPython.core.display.HTML object>"
      ]
     },
     "metadata": {},
     "output_type": "display_data"
    }
   ],
   "source": [
    "cnn_learn.fit_one_cycle(10, 1e-2)\n"
   ]
  },
  {
   "cell_type": "markdown",
   "metadata": {},
   "source": [
    "Mit dem vortrainierten Netz ist im ersten Anlauf eine Genauigkeit von 98,4% möglich.\n",
    "\n",
    "Durch Austesten verschiedener Parameter kann die Genauigkeit weiter erhöht werden. Try it!"
   ]
  }
 ],
 "metadata": {
  "kernelspec": {
   "display_name": "PyCharm (wwu-ki_mnist)",
   "language": "python",
   "name": "pycharm-460055aa"
  },
  "language_info": {
   "codemirror_mode": {
    "name": "ipython",
    "version": 3
   },
   "file_extension": ".py",
   "mimetype": "text/x-python",
   "name": "python",
   "nbconvert_exporter": "python",
   "pygments_lexer": "ipython3",
   "version": "3.8.8"
  },
  "toc": {
   "base_numbering": 1,
   "nav_menu": {},
   "number_sections": true,
   "sideBar": true,
   "skip_h1_title": false,
   "title_cell": "Table of Contents",
   "title_sidebar": "Contents",
   "toc_cell": false,
   "toc_position": {},
   "toc_section_display": true,
   "toc_window_display": false
  }
 },
 "nbformat": 4,
 "nbformat_minor": 2
}