{
 "cells": [
  {
   "cell_type": "markdown",
   "metadata": {},
   "source": [
    "Dieses Notebook ist eine grundlegende Einführung zu Deep Learning, also Machine Learning mit neuronalen Netzen, am Beispiel des MNIST-Datensatzes.\n",
    "\n",
    "Der MNIST-Datensatz besteht aus 70,000 Bildern (jeweils 28x28 Pixel, siehe Abb. links) von jeweils einer handgeschriebenen Ziffer (0 bis 9). Die Aufgabe, die mit diesem Datensatz verbunden ist, ist die automatische Erkennung der Ziffern.\n",
    "\n",
    "Neuronale Netze (siehe Abb. rechts) sind Modelle, bestehend aus Neuronen (Abb.: Kreise) und anpassungsfähigen Neuronenverknüpfungen (Abb.: Linien), die in der Lage sind abstrakte Strukturen in Daten zu erkennen. In diesem Fall sind die Grauwerte der 28 x 28 = 784 Pixel das Eingangssignal (-vektor) des neuronalen Netzes und das Ziel wäre im Abbildungsbeispiel das Aufleuchten des \"3-er-Neurons\".\n",
    "\n",
    "<img src=\"mnist_net.png\" style=\"width:800px;height:400px;\">\n",
    "\n",
    "Wie alle Machine Learning Modelle, \"lernen\" neuronale Netze selbstständig durch das Training auf vielen Beispielsamples (hier 60,000 Samples).\n",
    "Beim Training werden die Verknüpfungsstärken des Netzes (Weights und Biases) schrittweise so angepasst, dass für möglichst viele Beispielbilder die richtige Lösung rauskommt.\n",
    "Um [Overfitting](https://de.wikipedia.org/wiki/%C3%9Cberanpassung) zu vermeiden, wird ein Teil der Daten (hier 10,000 Bilder) nicht zum Training sondern zur Validierung des Modells verwendet.\n",
    "\n",
    "Im Folgenden wird ein einfaches neuronales Netz auf dem MNIST-Datensatz trainiert und anschließend evaluiert. Dazu wird [PyTorch](https://pytorch.org/) verwendet, da dies das aktuell populärste Package zur Implementierung neuronaler Netze ist.\n",
    "\n",
    "<img src=\"pytorch.png\" style=\"width:600px;height:400px;\">\n",
    "\n",
    "Zusätzlich zu PyTorch wird Version 2 von [fastai](https://docs.fast.ai/) (Installationsanleitung inkl. PyTorch im Link) verwendet, weil es das Training und die Validierung neuronaler Netze deutlich erleichtert."
   ]
  },
  {
   "cell_type": "markdown",
   "metadata": {},
   "source": [
    "Packages werden importiert"
   ]
  },
  {
   "cell_type": "code",
   "execution_count": 12,
   "metadata": {},
   "outputs": [],
   "source": [
    "from fastai.basics import *\n",
    "from fastai.vision.all import *"
   ]
  },
  {
   "cell_type": "markdown",
   "metadata": {},
   "source": [
    "MNIST-Daten werden heruntergeladen und als [ImageDataLoader-Objekt](https://docs.fast.ai/vision.data.html#ImageDataLoaders) geladen\n",
    "\n",
    "'training' und 'testing' sind die Bezeichnung der Unterordner in denen die jeweiligen Bilder liegen\n",
    "\n",
    "bs, die batch size zeigt nach wie vielen Bilder die Verknüpfungsstärken des Netzes aktualisiert werden"
   ]
  },
  {
   "cell_type": "code",
   "execution_count": 13,
   "metadata": {
    "pycharm": {
     "name": "#%%\n"
    }
   },
   "outputs": [],
   "source": [
    "path = untar_data(URLs.MNIST)\n",
    "data = ImageDataLoaders.from_folder(path, train='training', valid='testing', bs=64)"
   ]
  },
  {
   "cell_type": "markdown",
   "metadata": {},
   "source": [
    "Mit .show_batch() wird ein Ausschnitt eines Batches des ImageDataLoader geplottet um zu überprüfen ob die Daten wie vorgesehen geladen wurden"
   ]
  },
  {
   "cell_type": "code",
   "execution_count": 14,
   "metadata": {
    "pycharm": {
     "name": "#%%\n"
    }
   },
   "outputs": [
    {
     "data": {
      "image/png": "[encoded data removed]",
      "text/plain": [
       "<Figure size 648x648 with 9 Axes>"
      ]
     },
     "metadata": {
      "needs_background": "light"
     },
     "output_type": "display_data"
    }
   ],
   "source": [
    "data.show_batch()"
   ]
  },
  {
   "cell_type": "markdown",
   "metadata": {},
   "source": [
    "Als Modell dient ein einfaches neuronales Netz mit zwei vollständig verknüpften Layern ([nn.Linear](https://pytorch.org/docs/stable/generated/torch.nn.Linear.html)), die in der __init__-Methode initialisiert werden müssen.\n",
    "\n",
    "Alle Schritte, die das Eingangssignal (das Bild der Ziffer), bis zum Outputsignal (10-er Array/Neuronen, korrespondierend zu 10 Ziffern) durchläuft werden in der forward-Methode definiert."
   ]
  },
  {
   "cell_type": "code",
   "execution_count": 15,
   "metadata": {},
   "outputs": [
    {
     "name": "stdout",
     "output_type": "stream",
     "text": [
      "Net(\n",
      "  (layer_1): Linear(in_features=2352, out_features=200, bias=True)\n",
      "  (layer_2): Linear(in_features=200, out_features=10, bias=True)\n",
      ")\n"
     ]
    }
   ],
   "source": [
    "import torch\n",
    "import torch.nn as nn\n",
    "import torch.nn.functional as F\n",
    "\n",
    "\n",
    "class Net(nn.Module):\n",
    "\n",
    "    def __init__(self):\n",
    "        super(Net, self).__init__()\n",
    "        self.layer_1 = nn.Linear(3 * 28 * 28, 200) # 3*, da ein Rot-, Grün und Blau-Wert pro Pixel\n",
    "        self.layer_2 = nn.Linear(200, 10)\n",
    "\n",
    "    def forward(self, x):\n",
    "        x = x.view(x.shape[0], -1)\n",
    "        x = self.layer_1(x)\n",
    "        x = F.relu(x)\n",
    "        x = self.layer_2(x)\n",
    "        x = torch.sigmoid(x)\n",
    "        return x\n",
    "\n",
    "model = Net()\n",
    "print(model)"
   ]
  },
  {
   "cell_type": "markdown",
   "metadata": {},
   "source": [
    "Der [Learner](https://docs.fast.ai/learner.html) fasst die Daten und das Modell in ein handliches Objekt zusammen\n",
    "\n",
    "Um den Lernprozess nachvollziehen zu können, wird die [accuracy](https://docs.fast.ai/metrics.html#accuracy) also der Anteil richtig klassifizierter Bilder als Metrik hinzugefügt\n",
    "\n",
    "Mit .summary() wird eine lesbare Zusammenfassung des Learners ausgegeben.\n",
    "\n",
    "Wie darin zu erkennen ist, wurde:\n",
    "\n",
    "- der etablierte Optimierungsalgorithmus [Adam](https://docs.fast.ai/optimizer.html#Adam) standardmäßig gesetzt\n",
    "- als Loss-Funktion automatisch der [CrossEntropyLoss](https://pytorch.org/docs/stable/generated/torch.nn.CrossEntropyLoss.html) gewählt, wie es für Klassifikationsaufgaben vernünftig ist"
   ]
  },
  {
   "cell_type": "code",
   "execution_count": 16,
   "metadata": {
    "pycharm": {
     "name": "#%%\n"
    }
   },
   "outputs": [
    {
     "data": {
      "text/html": [],
      "text/plain": [
       "<IPython.core.display.HTML object>"
      ]
     },
     "metadata": {},
     "output_type": "display_data"
    },
    {
     "name": "stdout",
     "output_type": "stream",
     "text": [
      "Net (Input shape: 64)\n",
      "============================================================================\n",
      "Layer (type)         Output Shape         Param #    Trainable \n",
      "============================================================================\n",
      "                     64 x 200            \n",
      "Linear                                    470600     True      \n",
      "____________________________________________________________________________\n",
      "                     64 x 10             \n",
      "Linear                                    2010       True      \n",
      "____________________________________________________________________________\n",
      "\n",
      "Total params: 472,610\n",
      "Total trainable params: 472,610\n",
      "Total non-trainable params: 0\n",
      "\n",
      "Optimizer used: <function Adam at 0x7fd14d675430>\n",
      "Loss function: FlattenedLoss of CrossEntropyLoss()\n",
      "\n",
      "Callbacks:\n",
      "  - TrainEvalCallback\n",
      "  - Recorder\n",
      "  - ProgressCallback\n"
     ]
    }
   ],
   "source": [
    "learn = Learner(data, model, metrics=accuracy)\n",
    "print(learn.summary())"
   ]
  },
  {
   "cell_type": "markdown",
   "metadata": {},
   "source": [
    "Mit [.fit](https://docs.fast.ai/learner.html#Learner.fit) wird das Training mit 3 Epochen und einer Learning Rate von $1 * 10^{-2}$ durchgeführt"
   ]
  },
  {
   "cell_type": "code",
   "execution_count": 17,
   "metadata": {},
   "outputs": [
    {
     "data": {
      "text/html": [
       "<table border=\"1\" class=\"dataframe\">\n",
       "  <thead>\n",
       "    <tr style=\"text-align: left;\">\n",
       "      <th>epoch</th>\n",
       "      <th>train_loss</th>\n",
       "      <th>valid_loss</th>\n",
       "      <th>accuracy</th>\n",
       "      <th>time</th>\n",
       "    </tr>\n",
       "  </thead>\n",
       "  <tbody>\n",
       "    <tr>\n",
       "      <td>0</td>\n",
       "      <td>1.536071</td>\n",
       "      <td>1.524304</td>\n",
       "      <td>0.914500</td>\n",
       "      <td>00:04</td>\n",
       "    </tr>\n",
       "    <tr>\n",
       "      <td>1</td>\n",
       "      <td>1.530900</td>\n",
       "      <td>1.522887</td>\n",
       "      <td>0.905000</td>\n",
       "      <td>00:03</td>\n",
       "    </tr>\n",
       "    <tr>\n",
       "      <td>2</td>\n",
       "      <td>1.520438</td>\n",
       "      <td>1.528125</td>\n",
       "      <td>0.891700</td>\n",
       "      <td>00:04</td>\n",
       "    </tr>\n",
       "  </tbody>\n",
       "</table>"
      ],
      "text/plain": [
       "<IPython.core.display.HTML object>"
      ]
     },
     "metadata": {},
     "output_type": "display_data"
    }
   ],
   "source": [
    "learn.fit(3, 1e-2)"
   ]
  },
  {
   "cell_type": "markdown",
   "metadata": {},
   "source": [
    "Mit [.recorder.plot_loss()](https://docs.fast.ai/learner.html#Recorder) kann die Lernkurve geplottet werden"
   ]
  },
  {
   "cell_type": "code",
   "execution_count": 18,
   "metadata": {
    "pycharm": {
     "name": "#%%\n"
    }
   },
   "outputs": [
    {
     "data": {
      "image/png": "[encoded data removed]",
      "text/plain": [
       "<Figure size 432x288 with 1 Axes>"
      ]
     },
     "metadata": {
      "needs_background": "light"
     },
     "output_type": "display_data"
    }
   ],
   "source": [
    "learn.recorder.plot_loss()\n"
   ]
  },
  {
   "cell_type": "markdown",
   "metadata": {},
   "source": [
    "Mit [.show_results()](https://docs.fast.ai/learner.html#Learner.show_results) werden ein paar Beispielbilder aus dem Validierungsdatensatz inkl. vorhergesagtem und tatsächlichem Label dargestellt"
   ]
  },
  {
   "cell_type": "code",
   "execution_count": 19,
   "metadata": {
    "pycharm": {
     "name": "#%%\n"
    }
   },
   "outputs": [
    {
     "data": {
      "text/html": [],
      "text/plain": [
       "<IPython.core.display.HTML object>"
      ]
     },
     "metadata": {},
     "output_type": "display_data"
    },
    {
     "data": {
      "image/png": "[encoded data removed]",
      "text/plain": [
       "<Figure size 648x648 with 9 Axes>"
      ]
     },
     "metadata": {
      "needs_background": "light"
     },
     "output_type": "display_data"
    }
   ],
   "source": [
    "learn.show_results()\n"
   ]
  }
 ],
 "metadata": {
  "kernelspec": {
   "display_name": "PyCharm (wwu-ki_mnist)",
   "language": "python",
   "name": "pycharm-460055aa"
  },
  "language_info": {
   "codemirror_mode": {
    "name": "ipython",
    "version": 3
   },
   "file_extension": ".py",
   "mimetype": "text/x-python",
   "name": "python",
   "nbconvert_exporter": "python",
   "pygments_lexer": "ipython3",
   "version": "3.8.8"
  },
  "toc": {
   "base_numbering": 1,
   "nav_menu": {},
   "number_sections": true,
   "sideBar": true,
   "skip_h1_title": false,
   "title_cell": "Table of Contents",
   "title_sidebar": "Contents",
   "toc_cell": false,
   "toc_position": {},
   "toc_section_display": true,
   "toc_window_display": false
  }
 },
 "nbformat": 4,
 "nbformat_minor": 2
}